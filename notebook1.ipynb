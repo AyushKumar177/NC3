{
 "cells": [
  {
   "cell_type": "code",
   "execution_count": 1,
   "metadata": {},
   "outputs": [
    {
     "name": "stderr",
     "output_type": "stream",
     "text": [
      "c:\\Users\\91975\\anaconda3\\envs\\langchain\\lib\\site-packages\\tqdm\\auto.py:21: TqdmWarning: IProgress not found. Please update jupyter and ipywidgets. See https://ipywidgets.readthedocs.io/en/stable/user_install.html\n",
      "  from .autonotebook import tqdm as notebook_tqdm\n"
     ]
    },
    {
     "name": "stdout",
     "output_type": "stream",
     "text": [
      "load INSTRUCTOR_Transformer\n",
      "max_seq_length  512\n"
     ]
    },
    {
     "name": "stderr",
     "output_type": "stream",
     "text": [
      "c:\\Users\\91975\\anaconda3\\envs\\langchain\\lib\\site-packages\\transformers\\tokenization_utils_base.py:1601: FutureWarning: `clean_up_tokenization_spaces` was not set. It will be set to `True` by default. This behavior will be depracted in transformers v4.45, and will be then set to `False` by default. For more details check this issue: https://github.com/huggingface/transformers/issues/31884\n",
      "  warnings.warn(\n",
      "c:\\Users\\91975\\anaconda3\\envs\\langchain\\lib\\site-packages\\sentence_transformers\\models\\Dense.py:63: FutureWarning: You are using `torch.load` with `weights_only=False` (the current default value), which uses the default pickle module implicitly. It is possible to construct malicious pickle data which will execute arbitrary code during unpickling (See https://github.com/pytorch/pytorch/blob/main/SECURITY.md#untrusted-models for more details). In a future release, the default value for `weights_only` will be flipped to `True`. This limits the functions that could be executed during unpickling. Arbitrary objects will no longer be allowed to be loaded via this mode unless they are explicitly allowlisted by the user via `torch.serialization.add_safe_globals`. We recommend you start setting `weights_only=True` for any use case where you don't have full control of the loaded file. Please open an issue on GitHub for any issues related to this experimental feature.\n",
      "  model.load_state_dict(torch.load(os.path.join(input_path, 'pytorch_model.bin'), map_location=torch.device('cpu')))\n"
     ]
    }
   ],
   "source": [
    "from langchain_community.embeddings import HuggingFaceInstructEmbeddings\n",
    "from langchain_community.vectorstores import FAISS\n",
    "from langchain_google_genai import ChatGoogleGenerativeAI\n",
    "from langchain.prompts import PromptTemplate\n",
    "from langchain.chains import RetrievalQA\n",
    "from langchain.schema import Document\n",
    "import json\n",
    "import os\n",
    "\n"
   ]
  },
  {
   "cell_type": "code",
   "execution_count": null,
   "metadata": {},
   "outputs": [],
   "source": [
    "\n",
    "def load_json_data(file_path):\n",
    "    documents = []\n",
    "    with open(file_path, 'r', encoding='utf-8') as file:\n",
    "        for line in file:\n",
    "            data = json.loads(line)\n",
    "            text = f\"title: {data['title']}\\nabstract: {data['abstract']}\"\n",
    "            doc = Document(page_content=text)\n",
    "            documents.append(doc)\n",
    "    return documents\n"
   ]
  },
  {
   "cell_type": "code",
   "execution_count": null,
   "metadata": {},
   "outputs": [],
   "source": [
    "def vector_database(data_location, file_location):\n",
    "    documents = load_json_data(data_location)\n",
    "    embeddings = HuggingFaceInstructEmbeddings()\n",
    "    vectordb = FAISS.from_documents(documents, embedding=embeddings)\n",
    "    vectordb.save_local(file_location)\n",
    "    return embeddings\n",
    "\n",
    "def get_llm():\n",
    "    GOOGLE_API_KEY = '_________________'  # Set your API key here\n",
    "    llm = ChatGoogleGenerativeAI(model=\"gemini-pro\", google_api_key=GOOGLE_API_KEY, temperature=0.1)\n",
    "    return llm\n"
   ]
  },
  {
   "cell_type": "code",
   "execution_count": null,
   "metadata": {},
   "outputs": [],
   "source": [
    "def get_prompt():\n",
    "    prompt_template = \"\"\"\n",
    "    Given the following context and a question, generate an answer based on the context only.\n",
    "    In the answer try to provide as much text as possible from the \"response\" section in the source document.\n",
    "\n",
    "    CONTEXT: {context}\n",
    "\n",
    "    QUESTION: {question}\n",
    "    \"\"\"\n",
    "    prompt = PromptTemplate(\n",
    "        template=prompt_template,\n",
    "        input_variables=[\"context\", \"question\"]\n",
    "    )\n",
    "    return prompt"
   ]
  },
  {
   "cell_type": "code",
   "execution_count": null,
   "metadata": {},
   "outputs": [],
   "source": [
    "def get_chain(file_location):\n",
    "    llm = get_llm()\n",
    "    embeddings = HuggingFaceInstructEmbeddings()\n",
    "    vectordb = FAISS.load_local(file_location, embeddings, allow_dangerous_deserialization=True)\n",
    "    retriever = vectordb.as_retriever()\n",
    "    prompt = get_prompt()\n",
    "    \n",
    "    chain = RetrievalQA.from_chain_type(\n",
    "        llm=llm,\n",
    "        chain_type=\"stuff\",\n",
    "        retriever=retriever,\n",
    "        input_key=\"question\", \n",
    "        return_source_documents=True,\n",
    "        chain_type_kwargs={\"prompt\": prompt} \n",
    "    )\n",
    "    \n",
    "    return chain"
   ]
  },
  {
   "cell_type": "code",
   "execution_count": 2,
   "metadata": {},
   "outputs": [
    {
     "name": "stdout",
     "output_type": "stream",
     "text": [
      "load INSTRUCTOR_Transformer\n"
     ]
    },
    {
     "name": "stderr",
     "output_type": "stream",
     "text": [
      "c:\\Users\\91975\\anaconda3\\envs\\langchain\\lib\\site-packages\\transformers\\tokenization_utils_base.py:1601: FutureWarning: `clean_up_tokenization_spaces` was not set. It will be set to `True` by default. This behavior will be depracted in transformers v4.45, and will be then set to `False` by default. For more details check this issue: https://github.com/huggingface/transformers/issues/31884\n",
      "  warnings.warn(\n",
      "c:\\Users\\91975\\anaconda3\\envs\\langchain\\lib\\site-packages\\sentence_transformers\\models\\Dense.py:63: FutureWarning: You are using `torch.load` with `weights_only=False` (the current default value), which uses the default pickle module implicitly. It is possible to construct malicious pickle data which will execute arbitrary code during unpickling (See https://github.com/pytorch/pytorch/blob/main/SECURITY.md#untrusted-models for more details). In a future release, the default value for `weights_only` will be flipped to `True`. This limits the functions that could be executed during unpickling. Arbitrary objects will no longer be allowed to be loaded via this mode unless they are explicitly allowlisted by the user via `torch.serialization.add_safe_globals`. We recommend you start setting `weights_only=True` for any use case where you don't have full control of the loaded file. Please open an issue on GitHub for any issues related to this experimental feature.\n",
      "  model.load_state_dict(torch.load(os.path.join(input_path, 'pytorch_model.bin'), map_location=torch.device('cpu')))\n"
     ]
    },
    {
     "name": "stdout",
     "output_type": "stream",
     "text": [
      "max_seq_length  512\n"
     ]
    },
    {
     "name": "stderr",
     "output_type": "stream",
     "text": [
      "c:\\Users\\91975\\anaconda3\\envs\\langchain\\lib\\site-packages\\langchain_core\\_api\\deprecation.py:141: LangChainDeprecationWarning: The method `Chain.__call__` was deprecated in langchain 0.1.0 and will be removed in 1.0. Use invoke instead.\n",
      "  warn_deprecated(\n"
     ]
    },
    {
     "name": "stdout",
     "output_type": "stream",
     "text": [
      "{'question': 'What is the World as Evolving Information.?Summarise it in 50 words', 'result': 'This paper discusses the benefits of describing the world as information, especially in the study of the evolution of life and cognition. Traditional studies encounter problems because it is difficult to describe life and cognition in terms of matter and energy, since their laws are valid only at the physical scale. However, if matter and energy, as well as life and cognition, are described in terms of information, evolution can be described consistently as information becoming more complex.', 'source_documents': [Document(page_content='title: The World as Evolving Information\\nabstract:   This paper discusses the benefits of describing the world as information,\\nespecially in the study of the evolution of life and cognition. Traditional\\nstudies encounter problems because it is difficult to describe life and\\ncognition in terms of matter and energy, since their laws are valid only at the\\nphysical scale. However, if matter and energy, as well as life and cognition,\\nare described in terms of information, evolution can be described consistently\\nas information becoming more complex.\\n  The paper presents eight tentative laws of information, valid at multiple\\nscales, which are generalizations of Darwinian, cybernetic, thermodynamic,\\npsychological, philosophical, and complexity principles. These are further used\\nto discuss the notions of life, cognition and their evolution.\\n'), Document(page_content='title: Ensemble Learning for Free with Evolutionary Algorithms ?\\nabstract:   Evolutionary Learning proceeds by evolving a population of classifiers, from\\nwhich it generally returns (with some notable exceptions) the single\\nbest-of-run classifier as final result. In the meanwhile, Ensemble Learning,\\none of the most efficient approaches in supervised Machine Learning for the\\nlast decade, proceeds by building a population of diverse classifiers. Ensemble\\nLearning with Evolutionary Computation thus receives increasing attention. The\\nEvolutionary Ensemble Learning (EEL) approach presented in this paper features\\ntwo contributions. First, a new fitness function, inspired by co-evolution and\\nenforcing the classifier diversity, is presented. Further, a new selection\\ncriterion based on the classification margin is proposed. This criterion is\\nused to extract the classifier ensemble from the final population only\\n(Off-line) or incrementally along evolution (On-line). Experiments on a set of\\nbenchmark problems show that Off-line outperforms single-hypothesis\\nevolutionary learning and state-of-art Boosting and generates smaller\\nclassifier ensembles.\\n'), Document(page_content='title: Robust Multi-Cellular Developmental Design\\nabstract:   This paper introduces a continuous model for Multi-cellular Developmental\\nDesign. The cells are fixed on a 2D grid and exchange \"chemicals\" with their\\nneighbors during the growth process. The quantity of chemicals that a cell\\nproduces, as well as the differentiation value of the cell in the phenotype,\\nare controlled by a Neural Network (the genotype) that takes as inputs the\\nchemicals produced by the neighboring cells at the previous time step. In the\\nproposed model, the number of iterations of the growth process is not\\npre-determined, but emerges during evolution: only organisms for which the\\ngrowth process stabilizes give a phenotype (the stable state), others are\\ndeclared nonviable. The optimization of the controller is done using the NEAT\\nalgorithm, that optimizes both the topology and the weights of the Neural\\nNetworks. Though each cell only receives local information from its neighbors,\\nthe experimental results of the proposed approach on the \\'flags\\' problems (the\\nphenotype must match a given 2D pattern) are almost as good as those of a\\ndirect regression approach using the same model with global information.\\nMoreover, the resulting multi-cellular organisms exhibit almost perfect\\nself-healing characteristics.\\n'), Document(page_content='title: Can the Internet cope with stress?\\nabstract:   When will the Internet become aware of itself? In this note the problem is\\napproached by asking an alternative question: Can the Internet cope with\\nstress? By extrapolating the psychological difference between coping and\\ndefense mechanisms a distributed software experiment is outlined which could\\nreject the hypothesis that the Internet is not a conscious entity.\\n')]}\n"
     ]
    }
   ],
   "source": [
    "file_location=\"vectorDB/\"\n",
    "chain = get_chain(file_location)\n",
    "\n",
    "query = \"What is the World as Evolving Information.?\"\n",
    "query=query+\"Summarise it in 50 words\"\n",
    "try:\n",
    "    response = chain({\"question\": query})\n",
    "    print(response)\n",
    "except Exception as e:\n",
    "    print(\"Error:\", e)"
   ]
  },
  {
   "cell_type": "code",
   "execution_count": 3,
   "metadata": {},
   "outputs": [
    {
     "data": {
      "text/plain": [
       "[Document(page_content='title: The World as Evolving Information\\nabstract:   This paper discusses the benefits of describing the world as information,\\nespecially in the study of the evolution of life and cognition. Traditional\\nstudies encounter problems because it is difficult to describe life and\\ncognition in terms of matter and energy, since their laws are valid only at the\\nphysical scale. However, if matter and energy, as well as life and cognition,\\nare described in terms of information, evolution can be described consistently\\nas information becoming more complex.\\n  The paper presents eight tentative laws of information, valid at multiple\\nscales, which are generalizations of Darwinian, cybernetic, thermodynamic,\\npsychological, philosophical, and complexity principles. These are further used\\nto discuss the notions of life, cognition and their evolution.\\n'),\n",
       " Document(page_content='title: Ensemble Learning for Free with Evolutionary Algorithms ?\\nabstract:   Evolutionary Learning proceeds by evolving a population of classifiers, from\\nwhich it generally returns (with some notable exceptions) the single\\nbest-of-run classifier as final result. In the meanwhile, Ensemble Learning,\\none of the most efficient approaches in supervised Machine Learning for the\\nlast decade, proceeds by building a population of diverse classifiers. Ensemble\\nLearning with Evolutionary Computation thus receives increasing attention. The\\nEvolutionary Ensemble Learning (EEL) approach presented in this paper features\\ntwo contributions. First, a new fitness function, inspired by co-evolution and\\nenforcing the classifier diversity, is presented. Further, a new selection\\ncriterion based on the classification margin is proposed. This criterion is\\nused to extract the classifier ensemble from the final population only\\n(Off-line) or incrementally along evolution (On-line). Experiments on a set of\\nbenchmark problems show that Off-line outperforms single-hypothesis\\nevolutionary learning and state-of-art Boosting and generates smaller\\nclassifier ensembles.\\n'),\n",
       " Document(page_content='title: Robust Multi-Cellular Developmental Design\\nabstract:   This paper introduces a continuous model for Multi-cellular Developmental\\nDesign. The cells are fixed on a 2D grid and exchange \"chemicals\" with their\\nneighbors during the growth process. The quantity of chemicals that a cell\\nproduces, as well as the differentiation value of the cell in the phenotype,\\nare controlled by a Neural Network (the genotype) that takes as inputs the\\nchemicals produced by the neighboring cells at the previous time step. In the\\nproposed model, the number of iterations of the growth process is not\\npre-determined, but emerges during evolution: only organisms for which the\\ngrowth process stabilizes give a phenotype (the stable state), others are\\ndeclared nonviable. The optimization of the controller is done using the NEAT\\nalgorithm, that optimizes both the topology and the weights of the Neural\\nNetworks. Though each cell only receives local information from its neighbors,\\nthe experimental results of the proposed approach on the \\'flags\\' problems (the\\nphenotype must match a given 2D pattern) are almost as good as those of a\\ndirect regression approach using the same model with global information.\\nMoreover, the resulting multi-cellular organisms exhibit almost perfect\\nself-healing characteristics.\\n'),\n",
       " Document(page_content='title: Can the Internet cope with stress?\\nabstract:   When will the Internet become aware of itself? In this note the problem is\\napproached by asking an alternative question: Can the Internet cope with\\nstress? By extrapolating the psychological difference between coping and\\ndefense mechanisms a distributed software experiment is outlined which could\\nreject the hypothesis that the Internet is not a conscious entity.\\n')]"
      ]
     },
     "execution_count": 3,
     "metadata": {},
     "output_type": "execute_result"
    }
   ],
   "source": [
    "information=response['source_documents']\n",
    "information"
   ]
  },
  {
   "cell_type": "code",
   "execution_count": 4,
   "metadata": {},
   "outputs": [
    {
     "data": {
      "text/plain": [
       "'This paper discusses the benefits of describing the world as information, especially in the study of the evolution of life and cognition. Traditional studies encounter problems because it is difficult to describe life and cognition in terms of matter and energy, since their laws are valid only at the physical scale. However, if matter and energy, as well as life and cognition, are described in terms of information, evolution can be described consistently as information becoming more complex.'"
      ]
     },
     "execution_count": 4,
     "metadata": {},
     "output_type": "execute_result"
    }
   ],
   "source": [
    "summarization=response['result']\n",
    "summarization"
   ]
  },
  {
   "cell_type": "code",
   "execution_count": 5,
   "metadata": {},
   "outputs": [
    {
     "name": "stdout",
     "output_type": "stream",
     "text": [
      "load INSTRUCTOR_Transformer\n"
     ]
    },
    {
     "name": "stderr",
     "output_type": "stream",
     "text": [
      "c:\\Users\\91975\\anaconda3\\envs\\langchain\\lib\\site-packages\\transformers\\tokenization_utils_base.py:1601: FutureWarning: `clean_up_tokenization_spaces` was not set. It will be set to `True` by default. This behavior will be depracted in transformers v4.45, and will be then set to `False` by default. For more details check this issue: https://github.com/huggingface/transformers/issues/31884\n",
      "  warnings.warn(\n",
      "c:\\Users\\91975\\anaconda3\\envs\\langchain\\lib\\site-packages\\sentence_transformers\\models\\Dense.py:63: FutureWarning: You are using `torch.load` with `weights_only=False` (the current default value), which uses the default pickle module implicitly. It is possible to construct malicious pickle data which will execute arbitrary code during unpickling (See https://github.com/pytorch/pytorch/blob/main/SECURITY.md#untrusted-models for more details). In a future release, the default value for `weights_only` will be flipped to `True`. This limits the functions that could be executed during unpickling. Arbitrary objects will no longer be allowed to be loaded via this mode unless they are explicitly allowlisted by the user via `torch.serialization.add_safe_globals`. We recommend you start setting `weights_only=True` for any use case where you don't have full control of the loaded file. Please open an issue on GitHub for any issues related to this experimental feature.\n",
      "  model.load_state_dict(torch.load(os.path.join(input_path, 'pytorch_model.bin'), map_location=torch.device('cpu')))\n"
     ]
    },
    {
     "name": "stdout",
     "output_type": "stream",
     "text": [
      "max_seq_length  512\n",
      "This paper discusses the benefits of describing the world as information, especially in the study of the evolution of life and cognition. Traditional studies encounter problems because it is difficult to describe life and cognition in terms of matter and energy, since their laws are valid only at the physical scale. However, if matter and energy, as well as life and cognition, are described in terms of information, evolution can be described consistently as information becoming more complex.\n"
     ]
    }
   ],
   "source": [
    "file_location=\"vectorDB/\"\n",
    "chain = get_chain(file_location)\n",
    "\n",
    "query = \"What is 'The World as Evolving Information'.?\"\n",
    "query=query+\"Explain it\"\n",
    "try:\n",
    "    response = chain({\"question\": query})\n",
    "    print(response['result'])\n",
    "except Exception as e:\n",
    "    print(\"Error:\", e)"
   ]
  },
  {
   "cell_type": "code",
   "execution_count": 19,
   "metadata": {},
   "outputs": [],
   "source": [
    "\n",
    "\n",
    "def info(query):\n",
    "    try:\n",
    "        query=query+\"Give all information about it\"\n",
    "        response = chain({\"question\": query})\n",
    "        return response['result']\n",
    "    except Exception as e:\n",
    "        print(\"Error:\", e)\n",
    "\n",
    "def summary(query):\n",
    "    query=query+\"Summarise it in 50 words\"\n",
    "    try:\n",
    "        response = chain({\"question\": query})\n",
    "        return response['result']\n",
    "    except Exception as e:\n",
    "        print(\"Error:\", e)\n",
    "\n",
    "def explaination(query):\n",
    "    query=query+\"Explain it in 200 words\"\n",
    "    try:\n",
    "        response = chain({\"question\": query})\n",
    "        return response['result']\n",
    "    except Exception as e:\n",
    "        print(\"Error:\", e)"
   ]
  },
  {
   "cell_type": "code",
   "execution_count": 20,
   "metadata": {},
   "outputs": [
    {
     "name": "stdout",
     "output_type": "stream",
     "text": [
      "This paper discusses the benefits of describing the world as information, especially in the study of the evolution of life and cognition. Traditional studies encounter problems because it is difficult to describe life and cognition in terms of matter and energy, since their laws are valid only at the physical scale. However, if matter and energy, as well as life and cognition, are described in terms of information, evolution can be described consistently as information becoming more complex. The paper presents eight tentative laws of information, valid at multiple scales, which are generalizations of Darwinian, cybernetic, thermodynamic, psychological, philosophical, and complexity principles. These are further used to discuss the notions of life, cognition and their evolution.\n"
     ]
    }
   ],
   "source": [
    "query = \"What is the World as Evolving Information.?\"\n",
    "print(info(query))\n"
   ]
  },
  {
   "cell_type": "code",
   "execution_count": 23,
   "metadata": {},
   "outputs": [
    {
     "name": "stdout",
     "output_type": "stream",
     "text": [
      "This paper discusses the benefits of describing the world as information, especially in the study of the evolution of life and cognition. Traditional studies encounter problems because it is difficult to describe life and cognition in terms of matter and energy, since their laws are valid only at the physical scale. However, if matter and energy, as well as life and cognition, are described in terms of information, evolution can be described consistently as information becoming more complex.\n"
     ]
    }
   ],
   "source": [
    "query = \"What is the World as Evolving Information.?\"\n",
    "print(summary(query))\n"
   ]
  },
  {
   "cell_type": "code",
   "execution_count": 22,
   "metadata": {},
   "outputs": [
    {
     "name": "stdout",
     "output_type": "stream",
     "text": [
      "The World as Evolving Information is a theory that proposes describing the world in terms of information, rather than matter and energy. This approach is particularly useful in studying the evolution of life and cognition, as the laws of matter and energy are not sufficient to explain these phenomena.\n",
      "\n",
      "By describing the world in terms of information, evolution can be consistently described as information becoming more complex. This theory is supported by eight tentative laws of information, which are generalizations of Darwinian, cybernetic, thermodynamic, psychological, philosophical, and complexity principles. These laws can be used to discuss the notions of life, cognition, and their evolution.\n",
      "\n",
      "The World as Evolving Information theory has several advantages over traditional approaches. First, it provides a unified framework for describing the evolution of life and cognition. Second, it allows for a more nuanced understanding of the relationship between information and matter/energy. Third, it has the potential to lead to new insights into the nature of reality itself.\n"
     ]
    }
   ],
   "source": [
    "query = \"What is the World as Evolving Information.?\"\n",
    "print(explaination(query))\n"
   ]
  }
 ],
 "metadata": {
  "kernelspec": {
   "display_name": "langchain",
   "language": "python",
   "name": "python3"
  },
  "language_info": {
   "codemirror_mode": {
    "name": "ipython",
    "version": 3
   },
   "file_extension": ".py",
   "mimetype": "text/x-python",
   "name": "python",
   "nbconvert_exporter": "python",
   "pygments_lexer": "ipython3",
   "version": "3.10.14"
  }
 },
 "nbformat": 4,
 "nbformat_minor": 2
}
